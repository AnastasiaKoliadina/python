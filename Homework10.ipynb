{
  "nbformat": 4,
  "nbformat_minor": 0,
  "metadata": {
    "colab": {
      "provenance": [],
      "authorship_tag": "ABX9TyPM66N6m+UWnYsatC06dzka",
      "include_colab_link": true
    },
    "kernelspec": {
      "name": "python3",
      "display_name": "Python 3"
    },
    "language_info": {
      "name": "python"
    }
  },
  "cells": [
    {
      "cell_type": "markdown",
      "metadata": {
        "id": "view-in-github",
        "colab_type": "text"
      },
      "source": [
        "<a href=\"https://colab.research.google.com/github/AnastasiaKoliadina/python/blob/main/Homework10.ipynb\" target=\"_parent\"><img src=\"https://colab.research.google.com/assets/colab-badge.svg\" alt=\"Open In Colab\"/></a>"
      ]
    },
    {
      "cell_type": "markdown",
      "source": [
        "| Задание 44 |\n",
        "| --- |\n",
        "| В ячейке ниже представлен код генерирующий DataFrame, которая состоит всего из 1 столбца. Ваша задача перевести его в one hot вид. Сможете ли вы это сделать без get_dummies?\n",
        "\n",
        "import random\n",
        "lst = ['robot'] * 10\n",
        "lst += ['human'] * 10\n",
        "random.shuffle(lst)\n",
        "data = pd.DataFrame({'whoAmI'lst})\n",
        "data.head() |"
      ],
      "metadata": {
        "id": "lphitRXzPH9h"
      }
    },
    {
      "cell_type": "code",
      "source": [
        "import pandas as pd\n",
        "import random\n",
        "lst = ['robot'] * 10\n",
        "lst += ['human'] * 10\n",
        "random.shuffle(lst)\n",
        "data = pd.DataFrame({'whoAmI':lst})\n",
        "# print(data.head())\n",
        "\n",
        "#### решение через get_dummies\n",
        "new_data = pd.get_dummies(data['whoAmI'])\n",
        "print(new_data.head())\n",
        "\n",
        "#### решение без get_dummies\n",
        "data.loc[data['whoAmI'] == 'robot', 'robot'] = 1\n",
        "data.loc[data['whoAmI'] != 'robot', 'robot'] = 0\n",
        "data.loc[data['whoAmI'] == 'human', 'human'] = 1\n",
        "data.loc[data['whoAmI'] != 'human', 'human'] = 0\n",
        "new_data = data[['human', 'robot']]\n",
        "print(new_data.head())"
      ],
      "metadata": {
        "colab": {
          "base_uri": "https://localhost:8080/"
        },
        "id": "Mkf1z7moPJvU",
        "outputId": "780064b7-cbda-4828-a060-6e6f75dae5ad"
      },
      "execution_count": 1,
      "outputs": [
        {
          "output_type": "stream",
          "name": "stdout",
          "text": [
            "   human  robot\n",
            "0      0      1\n",
            "1      0      1\n",
            "2      0      1\n",
            "3      1      0\n",
            "4      1      0\n",
            "   human  robot\n",
            "0    0.0    1.0\n",
            "1    0.0    1.0\n",
            "2    0.0    1.0\n",
            "3    1.0    0.0\n",
            "4    1.0    0.0\n"
          ]
        }
      ]
    }
  ]
}